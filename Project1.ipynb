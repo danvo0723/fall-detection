{
 "cells": [
  {
   "cell_type": "markdown",
   "metadata": {},
   "source": [
    "# *Dannie Vo , Nancy Tran*\n",
    "## Project 1: Fall Detection Data from China\n",
    "## Subtitle: Fall Detection"
   ]
  },
  {
   "cell_type": "markdown",
   "metadata": {},
   "source": [
    "### 1. Objective of the Proposed Research:"
   ]
  },
  {
   "cell_type": "code",
   "execution_count": null,
   "metadata": {},
   "outputs": [],
   "source": []
  },
  {
   "cell_type": "markdown",
   "metadata": {},
   "source": [
    "### 2. Data Exploration:"
   ]
  },
  {
   "cell_type": "code",
   "execution_count": 1,
   "metadata": {},
   "outputs": [
    {
     "data": {
      "text/html": [
       "<table>\n",
       "<caption>A data.frame: 10 × 7</caption>\n",
       "<thead>\n",
       "\t<tr><th scope=col>ACTIVITY</th><th scope=col>TIME</th><th scope=col>SL</th><th scope=col>EEG</th><th scope=col>BP</th><th scope=col>HR</th><th scope=col>CIRCLUATION</th></tr>\n",
       "\t<tr><th scope=col>&lt;int&gt;</th><th scope=col>&lt;dbl&gt;</th><th scope=col>&lt;dbl&gt;</th><th scope=col>&lt;dbl&gt;</th><th scope=col>&lt;int&gt;</th><th scope=col>&lt;int&gt;</th><th scope=col>&lt;int&gt;</th></tr>\n",
       "</thead>\n",
       "<tbody>\n",
       "\t<tr><td>3</td><td> 4722.92</td><td>  4019.64</td><td>-1600.00</td><td>13</td><td> 79</td><td> 317</td></tr>\n",
       "\t<tr><td>2</td><td> 4059.12</td><td>  2191.03</td><td>-1146.08</td><td>20</td><td> 54</td><td> 165</td></tr>\n",
       "\t<tr><td>2</td><td> 4773.56</td><td>  2787.99</td><td>-1263.38</td><td>46</td><td> 67</td><td> 224</td></tr>\n",
       "\t<tr><td>4</td><td> 8271.27</td><td>  9545.98</td><td>-2848.93</td><td>26</td><td>138</td><td> 554</td></tr>\n",
       "\t<tr><td>4</td><td> 7102.16</td><td> 14148.80</td><td>-2381.15</td><td>85</td><td>120</td><td> 809</td></tr>\n",
       "\t<tr><td>5</td><td> 7015.24</td><td>  7336.79</td><td>-1699.80</td><td>22</td><td> 95</td><td> 427</td></tr>\n",
       "\t<tr><td>3</td><td> 8620.28</td><td> 24949.90</td><td>-3198.06</td><td>35</td><td>157</td><td>1519</td></tr>\n",
       "\t<tr><td>3</td><td> 9238.73</td><td> 39245.50</td><td>-2590.00</td><td>15</td><td>196</td><td>1885</td></tr>\n",
       "\t<tr><td>0</td><td>12276.40</td><td> 59742.00</td><td>-5101.00</td><td>56</td><td>249</td><td>2826</td></tr>\n",
       "\t<tr><td>4</td><td>14165.50</td><td>140950.00</td><td>-1410.00</td><td>82</td><td>315</td><td>5844</td></tr>\n",
       "</tbody>\n",
       "</table>\n"
      ],
      "text/latex": [
       "A data.frame: 10 × 7\n",
       "\\begin{tabular}{r|lllllll}\n",
       " ACTIVITY & TIME & SL & EEG & BP & HR & CIRCLUATION\\\\\n",
       " <int> & <dbl> & <dbl> & <dbl> & <int> & <int> & <int>\\\\\n",
       "\\hline\n",
       "\t 3 &  4722.92 &   4019.64 & -1600.00 & 13 &  79 &  317\\\\\n",
       "\t 2 &  4059.12 &   2191.03 & -1146.08 & 20 &  54 &  165\\\\\n",
       "\t 2 &  4773.56 &   2787.99 & -1263.38 & 46 &  67 &  224\\\\\n",
       "\t 4 &  8271.27 &   9545.98 & -2848.93 & 26 & 138 &  554\\\\\n",
       "\t 4 &  7102.16 &  14148.80 & -2381.15 & 85 & 120 &  809\\\\\n",
       "\t 5 &  7015.24 &   7336.79 & -1699.80 & 22 &  95 &  427\\\\\n",
       "\t 3 &  8620.28 &  24949.90 & -3198.06 & 35 & 157 & 1519\\\\\n",
       "\t 3 &  9238.73 &  39245.50 & -2590.00 & 15 & 196 & 1885\\\\\n",
       "\t 0 & 12276.40 &  59742.00 & -5101.00 & 56 & 249 & 2826\\\\\n",
       "\t 4 & 14165.50 & 140950.00 & -1410.00 & 82 & 315 & 5844\\\\\n",
       "\\end{tabular}\n"
      ],
      "text/markdown": [
       "\n",
       "A data.frame: 10 × 7\n",
       "\n",
       "| ACTIVITY &lt;int&gt; | TIME &lt;dbl&gt; | SL &lt;dbl&gt; | EEG &lt;dbl&gt; | BP &lt;int&gt; | HR &lt;int&gt; | CIRCLUATION &lt;int&gt; |\n",
       "|---|---|---|---|---|---|---|\n",
       "| 3 |  4722.92 |   4019.64 | -1600.00 | 13 |  79 |  317 |\n",
       "| 2 |  4059.12 |   2191.03 | -1146.08 | 20 |  54 |  165 |\n",
       "| 2 |  4773.56 |   2787.99 | -1263.38 | 46 |  67 |  224 |\n",
       "| 4 |  8271.27 |   9545.98 | -2848.93 | 26 | 138 |  554 |\n",
       "| 4 |  7102.16 |  14148.80 | -2381.15 | 85 | 120 |  809 |\n",
       "| 5 |  7015.24 |   7336.79 | -1699.80 | 22 |  95 |  427 |\n",
       "| 3 |  8620.28 |  24949.90 | -3198.06 | 35 | 157 | 1519 |\n",
       "| 3 |  9238.73 |  39245.50 | -2590.00 | 15 | 196 | 1885 |\n",
       "| 0 | 12276.40 |  59742.00 | -5101.00 | 56 | 249 | 2826 |\n",
       "| 4 | 14165.50 | 140950.00 | -1410.00 | 82 | 315 | 5844 |\n",
       "\n"
      ],
      "text/plain": [
       "   ACTIVITY TIME     SL        EEG      BP HR  CIRCLUATION\n",
       "1  3         4722.92   4019.64 -1600.00 13  79  317       \n",
       "2  2         4059.12   2191.03 -1146.08 20  54  165       \n",
       "3  2         4773.56   2787.99 -1263.38 46  67  224       \n",
       "4  4         8271.27   9545.98 -2848.93 26 138  554       \n",
       "5  4         7102.16  14148.80 -2381.15 85 120  809       \n",
       "6  5         7015.24   7336.79 -1699.80 22  95  427       \n",
       "7  3         8620.28  24949.90 -3198.06 35 157 1519       \n",
       "8  3         9238.73  39245.50 -2590.00 15 196 1885       \n",
       "9  0        12276.40  59742.00 -5101.00 56 249 2826       \n",
       "10 4        14165.50 140950.00 -1410.00 82 315 5844       "
      ]
     },
     "metadata": {},
     "output_type": "display_data"
    }
   ],
   "source": [
    "mydata <- read.csv('~/Documents/ANLT212/falldetection.csv', header = TRUE, stringsAsFactors = FALSE)\n",
    "head(mydata,10)"
   ]
  },
  {
   "cell_type": "code",
   "execution_count": 2,
   "metadata": {},
   "outputs": [
    {
     "name": "stdout",
     "output_type": "stream",
     "text": [
      "The fall detection dataset has 16382 rows and 7 columns."
     ]
    }
   ],
   "source": [
    "cat('The fall detection dataset has', dim(mydata)[1],'rows and',dim(mydata)[2],'columns.')"
   ]
  },
  {
   "cell_type": "code",
   "execution_count": 3,
   "metadata": {},
   "outputs": [
    {
     "data": {
      "text/html": [
       "<table>\n",
       "<caption>A tibble: 6 × 2</caption>\n",
       "<thead>\n",
       "\t<tr><th scope=col>ACTIVITY</th><th scope=col>n</th></tr>\n",
       "\t<tr><th scope=col>&lt;int&gt;</th><th scope=col>&lt;int&gt;</th></tr>\n",
       "</thead>\n",
       "<tbody>\n",
       "\t<tr><td>0</td><td>4608</td></tr>\n",
       "\t<tr><td>3</td><td>3588</td></tr>\n",
       "\t<tr><td>4</td><td>3494</td></tr>\n",
       "\t<tr><td>2</td><td>2502</td></tr>\n",
       "\t<tr><td>5</td><td>1688</td></tr>\n",
       "\t<tr><td>1</td><td> 502</td></tr>\n",
       "</tbody>\n",
       "</table>\n"
      ],
      "text/latex": [
       "A tibble: 6 × 2\n",
       "\\begin{tabular}{r|ll}\n",
       " ACTIVITY & n\\\\\n",
       " <int> & <int>\\\\\n",
       "\\hline\n",
       "\t 0 & 4608\\\\\n",
       "\t 3 & 3588\\\\\n",
       "\t 4 & 3494\\\\\n",
       "\t 2 & 2502\\\\\n",
       "\t 5 & 1688\\\\\n",
       "\t 1 &  502\\\\\n",
       "\\end{tabular}\n"
      ],
      "text/markdown": [
       "\n",
       "A tibble: 6 × 2\n",
       "\n",
       "| ACTIVITY &lt;int&gt; | n &lt;int&gt; |\n",
       "|---|---|\n",
       "| 0 | 4608 |\n",
       "| 3 | 3588 |\n",
       "| 4 | 3494 |\n",
       "| 2 | 2502 |\n",
       "| 5 | 1688 |\n",
       "| 1 |  502 |\n",
       "\n"
      ],
      "text/plain": [
       "  ACTIVITY n   \n",
       "1 0        4608\n",
       "2 3        3588\n",
       "3 4        3494\n",
       "4 2        2502\n",
       "5 5        1688\n",
       "6 1         502"
      ]
     },
     "metadata": {},
     "output_type": "display_data"
    }
   ],
   "source": [
    "suppressMessages(library(dplyr))\n",
    "mydata %>% count(ACTIVITY) %>% arrange(desc(n))"
   ]
  },
  {
   "cell_type": "markdown",
   "metadata": {},
   "source": [
    "Based on the activity level with 0: Standing, 1: Walking, 2: Sitting, 3: Falling, 4: Cramps, 5 Running, we can see that the largest amount of fall datset was recorded during the time when the old patient is standing, followed by when the patient is falling."
   ]
  },
  {
   "cell_type": "markdown",
   "metadata": {},
   "source": [
    "Below is the summary of the data, showing the 25th and 75th quantile as well as min/median/mean/max of each column:"
   ]
  },
  {
   "cell_type": "code",
   "execution_count": 4,
   "metadata": {},
   "outputs": [
    {
     "data": {
      "text/plain": [
       "    ACTIVITY          TIME             SL                 EEG           \n",
       " Min.   :0.000   Min.   : 1954   Min.   :     42.2   Min.   :-12626000  \n",
       " 1st Qu.:0.000   1st Qu.: 7264   1st Qu.:   9941.2   1st Qu.:    -5630  \n",
       " Median :3.000   Median : 9769   Median :  31189.2   Median :    -3361  \n",
       " Mean   :2.361   Mean   :10937   Mean   :  75272.0   Mean   :    -5621  \n",
       " 3rd Qu.:4.000   3rd Qu.:13482   3rd Qu.:  80761.4   3rd Qu.:    -2150  \n",
       " Max.   :5.000   Max.   :50896   Max.   :2426140.0   Max.   :  1410000  \n",
       "       BP               HR         CIRCLUATION   \n",
       " Min.   :  0.00   Min.   : 33.0   Min.   :    5  \n",
       " 1st Qu.: 25.00   1st Qu.:119.0   1st Qu.:  587  \n",
       " Median : 44.00   Median :180.0   Median : 1581  \n",
       " Mean   : 58.25   Mean   :211.5   Mean   : 2894  \n",
       " 3rd Qu.: 78.00   3rd Qu.:271.0   3rd Qu.: 3539  \n",
       " Max.   :533.00   Max.   :986.0   Max.   :52210  "
      ]
     },
     "metadata": {},
     "output_type": "display_data"
    }
   ],
   "source": [
    "summary(mydata)"
   ]
  },
  {
   "cell_type": "markdown",
   "metadata": {},
   "source": [
    "Below shows the data type of each column in the dataset:"
   ]
  },
  {
   "cell_type": "code",
   "execution_count": 5,
   "metadata": {},
   "outputs": [
    {
     "name": "stdout",
     "output_type": "stream",
     "text": [
      "'data.frame':\t16382 obs. of  7 variables:\n",
      " $ ACTIVITY   : int  3 2 2 4 4 5 3 3 0 4 ...\n",
      " $ TIME       : num  4723 4059 4774 8271 7102 ...\n",
      " $ SL         : num  4020 2191 2788 9546 14149 ...\n",
      " $ EEG        : num  -1600 -1146 -1263 -2849 -2381 ...\n",
      " $ BP         : int  13 20 46 26 85 22 35 15 56 82 ...\n",
      " $ HR         : int  79 54 67 138 120 95 157 196 249 315 ...\n",
      " $ CIRCLUATION: int  317 165 224 554 809 427 1519 1885 2826 5844 ...\n"
     ]
    }
   ],
   "source": [
    "str(mydata)"
   ]
  },
  {
   "cell_type": "code",
   "execution_count": 6,
   "metadata": {},
   "outputs": [
    {
     "data": {
      "text/html": [
       "<table>\n",
       "<caption>A tibble: 6 × 2</caption>\n",
       "<thead>\n",
       "\t<tr><th scope=col>ACTIVITY</th><th scope=col>n</th></tr>\n",
       "\t<tr><th scope=col>&lt;int&gt;</th><th scope=col>&lt;int&gt;</th></tr>\n",
       "</thead>\n",
       "<tbody>\n",
       "\t<tr><td>2</td><td>617</td></tr>\n",
       "\t<tr><td>3</td><td>415</td></tr>\n",
       "\t<tr><td>0</td><td>359</td></tr>\n",
       "\t<tr><td>4</td><td>285</td></tr>\n",
       "\t<tr><td>1</td><td>202</td></tr>\n",
       "\t<tr><td>5</td><td>142</td></tr>\n",
       "</tbody>\n",
       "</table>\n"
      ],
      "text/latex": [
       "A tibble: 6 × 2\n",
       "\\begin{tabular}{r|ll}\n",
       " ACTIVITY & n\\\\\n",
       " <int> & <int>\\\\\n",
       "\\hline\n",
       "\t 2 & 617\\\\\n",
       "\t 3 & 415\\\\\n",
       "\t 0 & 359\\\\\n",
       "\t 4 & 285\\\\\n",
       "\t 1 & 202\\\\\n",
       "\t 5 & 142\\\\\n",
       "\\end{tabular}\n"
      ],
      "text/markdown": [
       "\n",
       "A tibble: 6 × 2\n",
       "\n",
       "| ACTIVITY &lt;int&gt; | n &lt;int&gt; |\n",
       "|---|---|\n",
       "| 2 | 617 |\n",
       "| 3 | 415 |\n",
       "| 0 | 359 |\n",
       "| 4 | 285 |\n",
       "| 1 | 202 |\n",
       "| 5 | 142 |\n",
       "\n"
      ],
      "text/plain": [
       "  ACTIVITY n  \n",
       "1 2        617\n",
       "2 3        415\n",
       "3 0        359\n",
       "4 4        285\n",
       "5 1        202\n",
       "6 5        142"
      ]
     },
     "metadata": {},
     "output_type": "display_data"
    }
   ],
   "source": [
    "mydata[mydata$HR %in% c(60:100),] %>% count(ACTIVITY) %>% arrange(desc(n))"
   ]
  },
  {
   "cell_type": "markdown",
   "metadata": {},
   "source": [
    "As the normal heart rate is between 60 and 100, I noticed that most of old patients that have normal heart rate recorded at the time are sitting."
   ]
  },
  {
   "cell_type": "code",
   "execution_count": 7,
   "metadata": {},
   "outputs": [
    {
     "name": "stdout",
     "output_type": "stream",
     "text": [
      "The first few cases where patients had high blood pressure:\n"
     ]
    },
    {
     "data": {
      "text/html": [
       "<table>\n",
       "<caption>A data.frame: 6 × 7</caption>\n",
       "<thead>\n",
       "\t<tr><th></th><th scope=col>ACTIVITY</th><th scope=col>TIME</th><th scope=col>SL</th><th scope=col>EEG</th><th scope=col>BP</th><th scope=col>HR</th><th scope=col>CIRCLUATION</th></tr>\n",
       "\t<tr><th></th><th scope=col>&lt;int&gt;</th><th scope=col>&lt;dbl&gt;</th><th scope=col>&lt;dbl&gt;</th><th scope=col>&lt;dbl&gt;</th><th scope=col>&lt;int&gt;</th><th scope=col>&lt;int&gt;</th><th scope=col>&lt;int&gt;</th></tr>\n",
       "</thead>\n",
       "<tbody>\n",
       "\t<tr><th scope=row>29</th><td>0</td><td>23099.1</td><td>280276</td><td>-13215</td><td>264</td><td>465</td><td> 8741</td></tr>\n",
       "\t<tr><th scope=row>43</th><td>0</td><td>20309.9</td><td>291719</td><td>-11688</td><td>242</td><td>487</td><td>10978</td></tr>\n",
       "\t<tr><th scope=row>145</th><td>0</td><td>13372.0</td><td>190854</td><td> -8983</td><td>252</td><td>350</td><td> 7945</td></tr>\n",
       "\t<tr><th scope=row>161</th><td>0</td><td>21183.2</td><td>324568</td><td>-13759</td><td>323</td><td>482</td><td>10983</td></tr>\n",
       "\t<tr><th scope=row>230</th><td>0</td><td>15496.8</td><td>128042</td><td> -8414</td><td>251</td><td>325</td><td> 5739</td></tr>\n",
       "\t<tr><th scope=row>310</th><td>0</td><td>16725.1</td><td>197745</td><td>-10893</td><td>318</td><td>388</td><td> 7460</td></tr>\n",
       "</tbody>\n",
       "</table>\n"
      ],
      "text/latex": [
       "A data.frame: 6 × 7\n",
       "\\begin{tabular}{r|lllllll}\n",
       "  & ACTIVITY & TIME & SL & EEG & BP & HR & CIRCLUATION\\\\\n",
       "  & <int> & <dbl> & <dbl> & <dbl> & <int> & <int> & <int>\\\\\n",
       "\\hline\n",
       "\t29 & 0 & 23099.1 & 280276 & -13215 & 264 & 465 &  8741\\\\\n",
       "\t43 & 0 & 20309.9 & 291719 & -11688 & 242 & 487 & 10978\\\\\n",
       "\t145 & 0 & 13372.0 & 190854 &  -8983 & 252 & 350 &  7945\\\\\n",
       "\t161 & 0 & 21183.2 & 324568 & -13759 & 323 & 482 & 10983\\\\\n",
       "\t230 & 0 & 15496.8 & 128042 &  -8414 & 251 & 325 &  5739\\\\\n",
       "\t310 & 0 & 16725.1 & 197745 & -10893 & 318 & 388 &  7460\\\\\n",
       "\\end{tabular}\n"
      ],
      "text/markdown": [
       "\n",
       "A data.frame: 6 × 7\n",
       "\n",
       "| <!--/--> | ACTIVITY &lt;int&gt; | TIME &lt;dbl&gt; | SL &lt;dbl&gt; | EEG &lt;dbl&gt; | BP &lt;int&gt; | HR &lt;int&gt; | CIRCLUATION &lt;int&gt; |\n",
       "|---|---|---|---|---|---|---|---|\n",
       "| 29 | 0 | 23099.1 | 280276 | -13215 | 264 | 465 |  8741 |\n",
       "| 43 | 0 | 20309.9 | 291719 | -11688 | 242 | 487 | 10978 |\n",
       "| 145 | 0 | 13372.0 | 190854 |  -8983 | 252 | 350 |  7945 |\n",
       "| 161 | 0 | 21183.2 | 324568 | -13759 | 323 | 482 | 10983 |\n",
       "| 230 | 0 | 15496.8 | 128042 |  -8414 | 251 | 325 |  5739 |\n",
       "| 310 | 0 | 16725.1 | 197745 | -10893 | 318 | 388 |  7460 |\n",
       "\n"
      ],
      "text/plain": [
       "    ACTIVITY TIME    SL     EEG    BP  HR  CIRCLUATION\n",
       "29  0        23099.1 280276 -13215 264 465  8741      \n",
       "43  0        20309.9 291719 -11688 242 487 10978      \n",
       "145 0        13372.0 190854  -8983 252 350  7945      \n",
       "161 0        21183.2 324568 -13759 323 482 10983      \n",
       "230 0        15496.8 128042  -8414 251 325  5739      \n",
       "310 0        16725.1 197745 -10893 318 388  7460      "
      ]
     },
     "metadata": {},
     "output_type": "display_data"
    },
    {
     "name": "stdout",
     "output_type": "stream",
     "text": [
      "There are 413 cases where the old patients had high blood pressure with their systolic number > 180"
     ]
    }
   ],
   "source": [
    "cat('The first few cases where patients had high blood pressure:\\n')\n",
    "head(mydata[mydata$BP > 180,])\n",
    "cat('There are',nrow(mydata[mydata$BP > 180,]),'cases where the old patients had high blood pressure with their systolic number > 180')"
   ]
  },
  {
   "cell_type": "markdown",
   "metadata": {},
   "source": [
    "### 3. Data Cleaning:"
   ]
  },
  {
   "cell_type": "markdown",
   "metadata": {},
   "source": [
    "The last column of the dataset is mispelled, so I rename the column:"
   ]
  },
  {
   "cell_type": "code",
   "execution_count": 8,
   "metadata": {},
   "outputs": [],
   "source": [
    "colnames(mydata)[7] <- 'CIRCULATION'"
   ]
  },
  {
   "cell_type": "code",
   "execution_count": 9,
   "metadata": {},
   "outputs": [
    {
     "data": {
      "text/html": [
       "<dl class=dl-horizontal>\n",
       "\t<dt>ACTIVITY</dt>\n",
       "\t\t<dd>0</dd>\n",
       "\t<dt>TIME</dt>\n",
       "\t\t<dd>0</dd>\n",
       "\t<dt>SL</dt>\n",
       "\t\t<dd>0</dd>\n",
       "\t<dt>EEG</dt>\n",
       "\t\t<dd>0</dd>\n",
       "\t<dt>BP</dt>\n",
       "\t\t<dd>0</dd>\n",
       "\t<dt>HR</dt>\n",
       "\t\t<dd>0</dd>\n",
       "\t<dt>CIRCULATION</dt>\n",
       "\t\t<dd>0</dd>\n",
       "</dl>\n"
      ],
      "text/latex": [
       "\\begin{description*}\n",
       "\\item[ACTIVITY] 0\n",
       "\\item[TIME] 0\n",
       "\\item[SL] 0\n",
       "\\item[EEG] 0\n",
       "\\item[BP] 0\n",
       "\\item[HR] 0\n",
       "\\item[CIRCULATION] 0\n",
       "\\end{description*}\n"
      ],
      "text/markdown": [
       "ACTIVITY\n",
       ":   0TIME\n",
       ":   0SL\n",
       ":   0EEG\n",
       ":   0BP\n",
       ":   0HR\n",
       ":   0CIRCULATION\n",
       ":   0\n",
       "\n"
      ],
      "text/plain": [
       "   ACTIVITY        TIME          SL         EEG          BP          HR \n",
       "          0           0           0           0           0           0 \n",
       "CIRCULATION \n",
       "          0 "
      ]
     },
     "metadata": {},
     "output_type": "display_data"
    }
   ],
   "source": [
    "colSums(is.na(mydata))"
   ]
  },
  {
   "cell_type": "markdown",
   "metadata": {},
   "source": [
    "There's no NA values in this dataset."
   ]
  },
  {
   "cell_type": "markdown",
   "metadata": {},
   "source": [
    "### 4. Adaptation:"
   ]
  },
  {
   "cell_type": "markdown",
   "metadata": {},
   "source": [
    "Create a new dataframe called bp that shows the mean blood pressure based on each activity, then rename the new dataframe:"
   ]
  },
  {
   "cell_type": "code",
   "execution_count": 10,
   "metadata": {},
   "outputs": [],
   "source": [
    "bp = aggregate(BP~ACTIVITY, data = mydata, mean)\n",
    "colnames(bp) <- c('ACTIVITY','Mean_BP')"
   ]
  },
  {
   "cell_type": "markdown",
   "metadata": {},
   "source": [
    "Merge the original dataframe and the bp dataframe to have an additional column called Mean_BP:"
   ]
  },
  {
   "cell_type": "code",
   "execution_count": 11,
   "metadata": {},
   "outputs": [],
   "source": [
    "mydata = merge(mydata, bp, by='ACTIVITY')\n",
    "mydata$Mean_BP = round(mydata$Mean_BP,2)"
   ]
  },
  {
   "cell_type": "code",
   "execution_count": null,
   "metadata": {},
   "outputs": [],
   "source": []
  }
 ],
 "metadata": {
  "kernelspec": {
   "display_name": "R",
   "language": "R",
   "name": "ir"
  },
  "language_info": {
   "codemirror_mode": "r",
   "file_extension": ".r",
   "mimetype": "text/x-r-source",
   "name": "R",
   "pygments_lexer": "r",
   "version": "3.6.1"
  }
 },
 "nbformat": 4,
 "nbformat_minor": 2
}
